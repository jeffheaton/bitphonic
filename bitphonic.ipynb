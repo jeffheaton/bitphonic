{
  "nbformat": 4,
  "nbformat_minor": 0,
  "metadata": {
    "colab": {
      "provenance": []
    },
    "kernelspec": {
      "name": "python3",
      "display_name": "Python 3"
    },
    "language_info": {
      "name": "python"
    }
  },
  "cells": [
    {
      "cell_type": "markdown",
      "source": [
        "[![Open In Colab](https://colab.research.google.com/assets/colab-badge.svg)](https://colab.research.google.com/github/jeffheaton/bitphonic/blob/main/bitphonic.ipynb)\n",
        "\n",
        "# Bitphonic\n",
        "\n",
        "Copyright 2025 by [Jeff Heaton](https://www.youtube.com/channel/UCR1-GEpyOPzT2AO4D_eifdw), [Apache 2.0 License](https://www.apache.org/licenses/LICENSE-2.0)\n",
        "\n",
        "This is a fully custom polyphonic subtractive synthesizer written in just over 200 lines of Python. It generates music entirely from math: oscillators (sine, square, triangle, sawtooth, and noise) are shaped by per-note ADSR envelopes, filtered with a Moog-style resonant low-pass filter, and optionally modulated with LFOs for pitch or amplitude effects. Voices are defined in a separate JSON configuration file, allowing each track to use its own multi-oscillator patch. A sequence of notes, extracted from a MIDI files, is rendered sample by sample into a final .WAV audio file. There are no external plugins or sample libraries; all sound comes from math, memory, and code."
      ],
      "metadata": {
        "id": "QCwWmglEjqIg"
      }
    },
    {
      "cell_type": "markdown",
      "source": [
        "# Install Needed Files\n",
        "\n",
        "We make use of pretty_midi to load in MIDI files to obtain notes to play. MIDI is not used to actually play the files."
      ],
      "metadata": {
        "id": "TVIKKE2jmry4"
      }
    },
    {
      "cell_type": "code",
      "execution_count": 1,
      "metadata": {
        "id": "-F93gSjrQ5nF",
        "colab": {
          "base_uri": "https://localhost:8080/"
        },
        "outputId": "6e60f328-e94f-4ae0-a7a3-ab8225709b88"
      },
      "outputs": [
        {
          "output_type": "stream",
          "name": "stdout",
          "text": [
            "Collecting pretty_midi\n",
            "  Downloading pretty_midi-0.2.10.tar.gz (5.6 MB)\n",
            "\u001b[2K     \u001b[90m━━━━━━━━━━━━━━━━━━━━━━━━━━━━━━━━━━━━━━━━\u001b[0m \u001b[32m5.6/5.6 MB\u001b[0m \u001b[31m22.4 MB/s\u001b[0m eta \u001b[36m0:00:00\u001b[0m\n",
            "\u001b[?25h  Preparing metadata (setup.py) ... \u001b[?25l\u001b[?25hdone\n",
            "Requirement already satisfied: numpy>=1.7.0 in /usr/local/lib/python3.11/dist-packages (from pretty_midi) (2.0.2)\n",
            "Collecting mido>=1.1.16 (from pretty_midi)\n",
            "  Downloading mido-1.3.3-py3-none-any.whl.metadata (6.4 kB)\n",
            "Requirement already satisfied: six in /usr/local/lib/python3.11/dist-packages (from pretty_midi) (1.17.0)\n",
            "Requirement already satisfied: packaging in /usr/local/lib/python3.11/dist-packages (from mido>=1.1.16->pretty_midi) (24.2)\n",
            "Downloading mido-1.3.3-py3-none-any.whl (54 kB)\n",
            "\u001b[2K   \u001b[90m━━━━━━━━━━━━━━━━━━━━━━━━━━━━━━━━━━━━━━━━\u001b[0m \u001b[32m54.6/54.6 kB\u001b[0m \u001b[31m3.1 MB/s\u001b[0m eta \u001b[36m0:00:00\u001b[0m\n",
            "\u001b[?25hBuilding wheels for collected packages: pretty_midi\n",
            "  Building wheel for pretty_midi (setup.py) ... \u001b[?25l\u001b[?25hdone\n",
            "  Created wheel for pretty_midi: filename=pretty_midi-0.2.10-py3-none-any.whl size=5592286 sha256=a6ab00060ed9142023e77ce725857679b7a8a7c0aa0978ec5beb969ea91c6c14\n",
            "  Stored in directory: /root/.cache/pip/wheels/e6/95/ac/15ceaeb2823b04d8e638fd1495357adb8d26c00ccac9d7782e\n",
            "Successfully built pretty_midi\n",
            "Installing collected packages: mido, pretty_midi\n",
            "Successfully installed mido-1.3.3 pretty_midi-0.2.10\n"
          ]
        }
      ],
      "source": [
        "!pip install pretty_midi"
      ]
    },
    {
      "cell_type": "markdown",
      "source": [
        "These two files will be helpful to get started. The 'instruments.json' contains some synth instruments I created to get started. I also provide the notes for [popcorn](https://en.wikipedia.org/wiki/Popcorn_(instrumental))."
      ],
      "metadata": {
        "id": "8rqzZSS3y-KN"
      }
    },
    {
      "cell_type": "code",
      "source": [
        "!wget -O instruments.json https://s3.us-east-1.amazonaws.com/data.heatonresearch.com/bitphonic/instruments.json\n",
        "!wget -O Popcorn.json https://s3.us-east-1.amazonaws.com/data.heatonresearch.com/bitphonic/Popcorn.json\n",
        "\n",
        "PATH = \"/content/\""
      ],
      "metadata": {
        "colab": {
          "base_uri": "https://localhost:8080/"
        },
        "id": "W-LeqlfMxjo_",
        "outputId": "d66dd3b7-150f-4a51-fbe8-c81a6388fd49"
      },
      "execution_count": 2,
      "outputs": [
        {
          "output_type": "stream",
          "name": "stdout",
          "text": [
            "--2025-06-30 04:14:47--  https://s3.us-east-1.amazonaws.com/data.heatonresearch.com/bitphonic/instruments.json\n",
            "Resolving s3.us-east-1.amazonaws.com (s3.us-east-1.amazonaws.com)... 16.15.178.219, 54.231.140.80, 52.217.133.16, ...\n",
            "Connecting to s3.us-east-1.amazonaws.com (s3.us-east-1.amazonaws.com)|16.15.178.219|:443... connected.\n",
            "HTTP request sent, awaiting response... 200 OK\n",
            "Length: 4774 (4.7K) [application/json]\n",
            "Saving to: ‘instruments.json’\n",
            "\n",
            "\rinstruments.json      0%[                    ]       0  --.-KB/s               \rinstruments.json    100%[===================>]   4.66K  --.-KB/s    in 0s      \n",
            "\n",
            "2025-06-30 04:14:47 (182 MB/s) - ‘instruments.json’ saved [4774/4774]\n",
            "\n",
            "--2025-06-30 04:14:47--  https://s3.us-east-1.amazonaws.com/data.heatonresearch.com/bitphonic/Popcorn.json\n",
            "Resolving s3.us-east-1.amazonaws.com (s3.us-east-1.amazonaws.com)... 16.15.178.219, 54.231.140.80, 52.217.133.16, ...\n",
            "Connecting to s3.us-east-1.amazonaws.com (s3.us-east-1.amazonaws.com)|16.15.178.219|:443... connected.\n",
            "HTTP request sent, awaiting response... 200 OK\n",
            "Length: 394696 (385K) [application/json]\n",
            "Saving to: ‘Popcorn.json’\n",
            "\n",
            "Popcorn.json        100%[===================>] 385.45K  --.-KB/s    in 0.09s   \n",
            "\n",
            "2025-06-30 04:14:47 (4.00 MB/s) - ‘Popcorn.json’ saved [394696/394696]\n",
            "\n"
          ]
        }
      ]
    },
    {
      "cell_type": "markdown",
      "source": [
        "# Generate WAV for Song\n",
        "\n",
        "This will generate a \"wav\" file of the song you specify. This program requires the notes to be saved in a .json, later in this notebook you will see how to convert a MIDI file to this form."
      ],
      "metadata": {
        "id": "KB9l5qw6sX4P"
      }
    },
    {
      "cell_type": "code",
      "source": [
        "import numpy as np\n",
        "import wave\n",
        "import json\n",
        "import os\n",
        "import re\n",
        "from tqdm import tqdm\n",
        "\n",
        "# choose which JSON‐encoded song to render\n",
        "SONG_NAME = \"Popcorn.json\"\n",
        "\n",
        "# hard‐coded sample rate\n",
        "sr = 44100\n",
        "\n",
        "# load all instrument configs\n",
        "with open(os.path.join(PATH, \"instruments.json\"), \"r\") as f:\n",
        "    instruments = json.load(f)\n",
        "\n",
        "# timing constants\n",
        "TICKS_PER_128TH = 1\n",
        "TICKS_PER_QUARTER = 16\n",
        "TEMPO_BPM = 120\n",
        "SECONDS_PER_TICK = 60 / (TEMPO_BPM * TICKS_PER_QUARTER)\n",
        "\n",
        "# note → frequency helper\n",
        "NOTE_BASE = {'C': 0, 'D': 2, 'E': 4, 'F': 5, 'G': 7, 'A': 9, 'B': 11}\n",
        "def note_to_freq(note: str) -> float:\n",
        "    m = re.match(r'^([A-G])([#b]?)(-?\\d+)$', note)\n",
        "    if not m:\n",
        "        raise ValueError(f\"Bad note format: {note!r}\")\n",
        "    L, acc, octv = m.group(1), m.group(2), int(m.group(3))\n",
        "    sem = NOTE_BASE[L] + (1 if acc=='#' else -1 if acc=='b' else 0)\n",
        "    midi = sem + (octv + 1)*12\n",
        "    return 440.0 * 2 ** ((midi - 69) / 12)\n",
        "\n",
        "# ADSR envelope generator\n",
        "def adsr_envelope(t, attack_time, decay_time, sustain_level, release_time):\n",
        "    N = len(t)\n",
        "    A = min(int(sr * attack_time), N)\n",
        "    D = min(A + int(sr * decay_time), N)\n",
        "    R = min(int(sr * release_time), N)\n",
        "    release_start = max(N - R, D)\n",
        "\n",
        "    env = np.zeros_like(t)\n",
        "    if A > 0:\n",
        "        env[:A] = np.linspace(0, 1, A)\n",
        "    if D > A:\n",
        "        env[A:D] = np.linspace(1, sustain_level, D - A)\n",
        "    if release_start > D:\n",
        "        env[D:release_start] = sustain_level\n",
        "    if N > release_start:\n",
        "        env[release_start:] = np.linspace(sustain_level, 0, N - release_start)\n",
        "    return env\n",
        "\n",
        "# waveform generator\n",
        "def waveform(kind, freq, t):\n",
        "    phase = (freq * t) % 1\n",
        "    if kind == \"sine\":\n",
        "        return np.sin(2 * np.pi * freq * t)\n",
        "    elif kind == \"square\":\n",
        "        return np.where(np.sin(2 * np.pi * freq * t) >= 0, 1.0, -1.0)\n",
        "    elif kind == \"triangle\":\n",
        "        return 2 * np.abs(2*phase - 1) - 1\n",
        "    elif kind == \"sawtooth\":\n",
        "        return 2 * phase - 1\n",
        "    elif kind == \"noise\":\n",
        "        return np.random.uniform(-1.0, 1.0, size=len(t))\n",
        "    else:\n",
        "        return np.sin(2 * np.pi * freq * t)\n",
        "\n",
        "# simple 1-pole resonant low-pass (“Mini-Moog style”)\n",
        "def moog_filter(x, cutoff, resonance):\n",
        "    y = np.zeros_like(x)\n",
        "    y1 = y2 = 0.0\n",
        "    dt = 1.0 / sr\n",
        "    RC = 1.0 / (2 * np.pi * cutoff)\n",
        "    alpha = dt / (RC + dt)\n",
        "    for i, xi in enumerate(x):\n",
        "        y0 = y1 + alpha * (xi - y1 + resonance * (y1 - y2))\n",
        "        y[i] = y0\n",
        "        y2, y1 = y1, y0\n",
        "    return y\n",
        "\n",
        "# load multitrack JSON\n",
        "with open(os.path.join(PATH, SONG_NAME), \"r\") as f:\n",
        "    data = json.load(f)\n",
        "tracks = data.get('tracks', [])\n",
        "\n",
        "# compute total length\n",
        "total_ticks = 0\n",
        "for track in tracks:\n",
        "    for ev in track['sequence']:\n",
        "        max_dur = max(n['duration'] for n in ev['notes'])\n",
        "        total_ticks = max(total_ticks, ev['tick'] + max_dur)\n",
        "\n",
        "total_seconds = total_ticks * SECONDS_PER_TICK\n",
        "total_samples = int(total_seconds * sr)\n",
        "\n",
        "# create buffer\n",
        "song = np.memmap(\"song_buffer.dat\", dtype=np.float32, mode=\"w+\", shape=(total_samples,))\n",
        "\n",
        "# render each track separately, using its own synth config\n",
        "for track in tracks:\n",
        "    synth_cfg = instruments[track.get(\"synth\", \"\")]\n",
        "    adsr = synth_cfg[\"adsr\"]\n",
        "    attack_time   = adsr[\"attack_time\"]\n",
        "    decay_time    = adsr[\"decay_time\"]\n",
        "    sustain_level = adsr[\"sustain_level\"]\n",
        "    release_time  = adsr[\"release_time\"]\n",
        "\n",
        "    is_drum_track = track.get(\"synth\") == \"drum\"\n",
        "    drum_map = synth_cfg.get(\"drum_map\", {}) if is_drum_track else {}\n",
        "\n",
        "    lfo_cfg = synth_cfg.get(\"lfo\", {})\n",
        "    lfo_target = lfo_cfg.get(\"target\")\n",
        "    lfo_waveform = lfo_cfg.get(\"waveform\", \"sine\")\n",
        "    lfo_freq = lfo_cfg.get(\"freq\", 5.0)\n",
        "    lfo_depth = lfo_cfg.get(\"depth\", 0.01)\n",
        "\n",
        "    for event in track['sequence']:\n",
        "        start_tick = event['tick']\n",
        "        for note_info in event['notes']:\n",
        "            note_label = note_info['note']\n",
        "\n",
        "            if is_drum_track and note_label.isdigit():\n",
        "                drum_spec = drum_map.get(note_label, {\n",
        "                    \"waveform\": \"noise\",\n",
        "                    \"freq\": 4000\n",
        "                })\n",
        "                waveform_kind = drum_spec[\"waveform\"]\n",
        "                freq = drum_spec[\"freq\"]\n",
        "\n",
        "                dur_samps = int(note_info['duration'] * SECONDS_PER_TICK * sr)\n",
        "                start_samp = int(start_tick * SECONDS_PER_TICK * sr)\n",
        "                t = np.linspace(0, dur_samps/sr, dur_samps, endpoint=False)\n",
        "\n",
        "                # Apply amp LFO if needed\n",
        "                wave = waveform(waveform_kind, freq, t)\n",
        "                if lfo_target == \"amp\":\n",
        "                    amp_lfo = waveform(lfo_waveform, lfo_freq, t)\n",
        "                    wave *= 1.0 + lfo_depth * amp_lfo\n",
        "\n",
        "                env = adsr_envelope(t, attack_time, decay_time, sustain_level, release_time)\n",
        "                chunk = wave * env\n",
        "\n",
        "            else:\n",
        "                try:\n",
        "                    freq = note_to_freq(note_label)\n",
        "                except ValueError:\n",
        "                    print(f\"Warning: note {note_label!r} not recognized, skipping.\")\n",
        "                    continue\n",
        "\n",
        "                dur_samps = int(note_info['duration'] * SECONDS_PER_TICK * sr)\n",
        "                start_samp = int(start_tick * SECONDS_PER_TICK * sr)\n",
        "                t = np.linspace(0, dur_samps/sr, dur_samps, endpoint=False)\n",
        "\n",
        "                if lfo_target == \"pitch\":\n",
        "                    pitch_lfo = waveform(lfo_waveform, lfo_freq, t)\n",
        "                    mod_freq = freq * (1.0 + lfo_depth * pitch_lfo)\n",
        "                else:\n",
        "                    mod_freq = freq\n",
        "\n",
        "                amp_lfo = None\n",
        "                if lfo_target == \"amp\":\n",
        "                    amp_lfo = waveform(lfo_waveform, lfo_freq, t)\n",
        "\n",
        "                wave_sum = np.zeros_like(t)\n",
        "                for osc in synth_cfg[\"oscillators\"]:\n",
        "                    f = mod_freq * osc[\"detune\"]\n",
        "                    sig = waveform(osc[\"waveform\"], f, t)\n",
        "                    sig = moog_filter(sig,\n",
        "                                      osc[\"filter\"][\"cutoff\"],\n",
        "                                      osc[\"filter\"][\"resonance\"])\n",
        "                    wave_sum += sig\n",
        "\n",
        "                wave_sum /= len(synth_cfg[\"oscillators\"])\n",
        "                if amp_lfo is not None:\n",
        "                    wave_sum *= 1.0 + lfo_depth * amp_lfo\n",
        "\n",
        "                env = adsr_envelope(t, attack_time, decay_time, sustain_level, release_time)\n",
        "                chunk = wave_sum * env\n",
        "\n",
        "            end_samp = start_samp + len(chunk)\n",
        "            if end_samp > total_samples:\n",
        "                chunk = chunk[: total_samples - start_samp]\n",
        "            song[start_samp:end_samp] += chunk\n",
        "\n",
        "\n",
        "# normalization in 10-second chunks\n",
        "chunk_size = sr * 10\n",
        "max_val = 0.0\n",
        "for start in tqdm(range(0, total_samples, chunk_size), desc=\"Finding max\", unit=\"chunk\"):\n",
        "    end = min(start + chunk_size, total_samples)\n",
        "    max_val = max(max_val, np.max(np.abs(song[start:end])))\n",
        "\n",
        "scale = 0.9 / max_val\n",
        "for start in tqdm(range(0, total_samples, chunk_size), desc=\"Normalizing\", unit=\"chunk\"):\n",
        "    end = min(start + chunk_size, total_samples)\n",
        "    song[start:end] *= scale\n",
        "\n",
        "# write WAV\n",
        "base, _ = os.path.splitext(SONG_NAME)\n",
        "wav_path = os.path.join(PATH, f\"{base}.wav\")\n",
        "\n",
        "with wave.open(wav_path, \"wb\") as wf:\n",
        "    wf.setnchannels(1)\n",
        "    wf.setsampwidth(2)  # 16-bit\n",
        "    wf.setframerate(sr)\n",
        "    for start in tqdm(range(0, total_samples, chunk_size), desc=\"Writing WAV\", unit=\"chunk\"):\n",
        "        end = min(start + chunk_size, total_samples)\n",
        "        int_chunk = (song[start:end] * 32767).astype(np.int16)\n",
        "        wf.writeframes(int_chunk.tobytes())\n",
        "\n",
        "print(f\"Wrote {wav_path}\")\n"
      ],
      "metadata": {
        "colab": {
          "base_uri": "https://localhost:8080/"
        },
        "id": "ZYM6G0O3pYAw",
        "outputId": "580b73e1-a7cd-47fd-fb9a-e32851aa71ff"
      },
      "execution_count": 3,
      "outputs": [
        {
          "output_type": "stream",
          "name": "stderr",
          "text": [
            "Finding max: 100%|██████████| 13/13 [00:00<00:00, 1277.91chunk/s]\n",
            "Normalizing: 100%|██████████| 13/13 [00:00<00:00, 1694.30chunk/s]\n",
            "Writing WAV: 100%|██████████| 13/13 [00:00<00:00, 574.15chunk/s]"
          ]
        },
        {
          "output_type": "stream",
          "name": "stdout",
          "text": [
            "Wrote /content/Popcorn.wav\n"
          ]
        },
        {
          "output_type": "stream",
          "name": "stderr",
          "text": [
            "\n"
          ]
        }
      ]
    },
    {
      "cell_type": "markdown",
      "source": [
        "You can download your wav file."
      ],
      "metadata": {
        "id": "c-RyY1MA58su"
      }
    },
    {
      "cell_type": "code",
      "source": [
        "from google.colab import files\n",
        "files.download(wav_path)"
      ],
      "metadata": {
        "colab": {
          "base_uri": "https://localhost:8080/",
          "height": 17
        },
        "id": "f1mWc6VDu-gE",
        "outputId": "e75e6f12-d843-48ce-dbfe-e1aa3c5e4f76"
      },
      "execution_count": 4,
      "outputs": [
        {
          "output_type": "display_data",
          "data": {
            "text/plain": [
              "<IPython.core.display.Javascript object>"
            ],
            "application/javascript": [
              "\n",
              "    async function download(id, filename, size) {\n",
              "      if (!google.colab.kernel.accessAllowed) {\n",
              "        return;\n",
              "      }\n",
              "      const div = document.createElement('div');\n",
              "      const label = document.createElement('label');\n",
              "      label.textContent = `Downloading \"${filename}\": `;\n",
              "      div.appendChild(label);\n",
              "      const progress = document.createElement('progress');\n",
              "      progress.max = size;\n",
              "      div.appendChild(progress);\n",
              "      document.body.appendChild(div);\n",
              "\n",
              "      const buffers = [];\n",
              "      let downloaded = 0;\n",
              "\n",
              "      const channel = await google.colab.kernel.comms.open(id);\n",
              "      // Send a message to notify the kernel that we're ready.\n",
              "      channel.send({})\n",
              "\n",
              "      for await (const message of channel.messages) {\n",
              "        // Send a message to notify the kernel that we're ready.\n",
              "        channel.send({})\n",
              "        if (message.buffers) {\n",
              "          for (const buffer of message.buffers) {\n",
              "            buffers.push(buffer);\n",
              "            downloaded += buffer.byteLength;\n",
              "            progress.value = downloaded;\n",
              "          }\n",
              "        }\n",
              "      }\n",
              "      const blob = new Blob(buffers, {type: 'application/binary'});\n",
              "      const a = document.createElement('a');\n",
              "      a.href = window.URL.createObjectURL(blob);\n",
              "      a.download = filename;\n",
              "      div.appendChild(a);\n",
              "      a.click();\n",
              "      div.remove();\n",
              "    }\n",
              "  "
            ]
          },
          "metadata": {}
        },
        {
          "output_type": "display_data",
          "data": {
            "text/plain": [
              "<IPython.core.display.Javascript object>"
            ],
            "application/javascript": [
              "download(\"download_474051bd-113c-476d-860f-dbb0dc7ed878\", \"Popcorn.wav\", 11058118)"
            ]
          },
          "metadata": {}
        }
      ]
    },
    {
      "cell_type": "markdown",
      "source": [
        "You can also convert the wav to a mp3."
      ],
      "metadata": {
        "id": "xoVzwzCB5_LV"
      }
    },
    {
      "cell_type": "code",
      "source": [
        "from pathlib import Path\n",
        "from google.colab import files\n",
        "\n",
        "wav_path = Path(\"Popcorn.wav\")\n",
        "mp3_path = wav_path.with_suffix(\".mp3\")\n",
        "\n",
        "!ffmpeg -y -i {wav_path} -codec:a libmp3lame -qscale:a 2 {mp3_path}\n",
        "files.download(mp3_path)"
      ],
      "metadata": {
        "colab": {
          "base_uri": "https://localhost:8080/",
          "height": 501
        },
        "id": "lseme3Qe3WVs",
        "outputId": "fc9d9f04-67d7-4bd7-f183-899f74100a8a"
      },
      "execution_count": 43,
      "outputs": [
        {
          "output_type": "stream",
          "name": "stdout",
          "text": [
            "ffmpeg version 4.4.2-0ubuntu0.22.04.1 Copyright (c) 2000-2021 the FFmpeg developers\n",
            "  built with gcc 11 (Ubuntu 11.2.0-19ubuntu1)\n",
            "  configuration: --prefix=/usr --extra-version=0ubuntu0.22.04.1 --toolchain=hardened --libdir=/usr/lib/x86_64-linux-gnu --incdir=/usr/include/x86_64-linux-gnu --arch=amd64 --enable-gpl --disable-stripping --enable-gnutls --enable-ladspa --enable-libaom --enable-libass --enable-libbluray --enable-libbs2b --enable-libcaca --enable-libcdio --enable-libcodec2 --enable-libdav1d --enable-libflite --enable-libfontconfig --enable-libfreetype --enable-libfribidi --enable-libgme --enable-libgsm --enable-libjack --enable-libmp3lame --enable-libmysofa --enable-libopenjpeg --enable-libopenmpt --enable-libopus --enable-libpulse --enable-librabbitmq --enable-librubberband --enable-libshine --enable-libsnappy --enable-libsoxr --enable-libspeex --enable-libsrt --enable-libssh --enable-libtheora --enable-libtwolame --enable-libvidstab --enable-libvorbis --enable-libvpx --enable-libwebp --enable-libx265 --enable-libxml2 --enable-libxvid --enable-libzimg --enable-libzmq --enable-libzvbi --enable-lv2 --enable-omx --enable-openal --enable-opencl --enable-opengl --enable-sdl2 --enable-pocketsphinx --enable-librsvg --enable-libmfx --enable-libdc1394 --enable-libdrm --enable-libiec61883 --enable-chromaprint --enable-frei0r --enable-libx264 --enable-shared\n",
            "  libavutil      56. 70.100 / 56. 70.100\n",
            "  libavcodec     58.134.100 / 58.134.100\n",
            "  libavformat    58. 76.100 / 58. 76.100\n",
            "  libavdevice    58. 13.100 / 58. 13.100\n",
            "  libavfilter     7.110.100 /  7.110.100\n",
            "  libswscale      5.  9.100 /  5.  9.100\n",
            "  libswresample   3.  9.100 /  3.  9.100\n",
            "  libpostproc    55.  9.100 / 55.  9.100\n",
            "\u001b[0;33mGuessed Channel Layout for Input Stream #0.0 : mono\n",
            "\u001b[0mInput #0, wav, from 'Popcorn.wav':\n",
            "  Duration: 00:02:05.37, bitrate: 705 kb/s\n",
            "  Stream #0:0: Audio: pcm_s16le ([1][0][0][0] / 0x0001), 44100 Hz, mono, s16, 705 kb/s\n",
            "Stream mapping:\n",
            "  Stream #0:0 -> #0:0 (pcm_s16le (native) -> mp3 (libmp3lame))\n",
            "Press [q] to stop, [?] for help\n",
            "Output #0, mp3, to 'Popcorn.mp3':\n",
            "  Metadata:\n",
            "    TSSE            : Lavf58.76.100\n",
            "  Stream #0:0: Audio: mp3, 44100 Hz, mono, s16p\n",
            "    Metadata:\n",
            "      encoder         : Lavc58.134.100 libmp3lame\n",
            "size=    1382kB time=00:02:05.36 bitrate=  90.3kbits/s speed=82.9x    \n",
            "video:0kB audio:1381kB subtitle:0kB other streams:0kB global headers:0kB muxing overhead: 0.016047%\n"
          ]
        },
        {
          "output_type": "display_data",
          "data": {
            "text/plain": [
              "<IPython.core.display.Javascript object>"
            ],
            "application/javascript": [
              "\n",
              "    async function download(id, filename, size) {\n",
              "      if (!google.colab.kernel.accessAllowed) {\n",
              "        return;\n",
              "      }\n",
              "      const div = document.createElement('div');\n",
              "      const label = document.createElement('label');\n",
              "      label.textContent = `Downloading \"${filename}\": `;\n",
              "      div.appendChild(label);\n",
              "      const progress = document.createElement('progress');\n",
              "      progress.max = size;\n",
              "      div.appendChild(progress);\n",
              "      document.body.appendChild(div);\n",
              "\n",
              "      const buffers = [];\n",
              "      let downloaded = 0;\n",
              "\n",
              "      const channel = await google.colab.kernel.comms.open(id);\n",
              "      // Send a message to notify the kernel that we're ready.\n",
              "      channel.send({})\n",
              "\n",
              "      for await (const message of channel.messages) {\n",
              "        // Send a message to notify the kernel that we're ready.\n",
              "        channel.send({})\n",
              "        if (message.buffers) {\n",
              "          for (const buffer of message.buffers) {\n",
              "            buffers.push(buffer);\n",
              "            downloaded += buffer.byteLength;\n",
              "            progress.value = downloaded;\n",
              "          }\n",
              "        }\n",
              "      }\n",
              "      const blob = new Blob(buffers, {type: 'application/binary'});\n",
              "      const a = document.createElement('a');\n",
              "      a.href = window.URL.createObjectURL(blob);\n",
              "      a.download = filename;\n",
              "      div.appendChild(a);\n",
              "      a.click();\n",
              "      div.remove();\n",
              "    }\n",
              "  "
            ]
          },
          "metadata": {}
        },
        {
          "output_type": "display_data",
          "data": {
            "text/plain": [
              "<IPython.core.display.Javascript object>"
            ],
            "application/javascript": [
              "download(\"download_65dea6e9-c690-4f0b-9901-6f066493a605\", \"Popcorn.mp3\", 1414811)"
            ]
          },
          "metadata": {}
        }
      ]
    },
    {
      "cell_type": "markdown",
      "source": [
        "# Extract MIDI\n",
        "\n",
        "This code extracts notes from a MIDI file and stores them to the JSON format that bitphonic uses. You will likely need to map unknown instruments in the synth_map. You can also create new instruments.\n",
        "\n",
        "If you need to upload a file, use this."
      ],
      "metadata": {
        "id": "iZoCbg0ktgTy"
      }
    },
    {
      "cell_type": "code",
      "source": [
        "from google.colab import files\n",
        "uploaded = files.upload()"
      ],
      "metadata": {
        "id": "kdzjoHTaDSZw"
      },
      "execution_count": null,
      "outputs": []
    },
    {
      "cell_type": "markdown",
      "source": [
        "Then you can convert. You might also wish to use gdrive."
      ],
      "metadata": {
        "id": "YPDVQswhDTJ7"
      }
    },
    {
      "cell_type": "code",
      "source": [
        "import os\n",
        "import json\n",
        "import pretty_midi\n",
        "from pprint import pprint\n",
        "\n",
        "# ————— CONFIG —————\n",
        "midi_name = 'Popcorn.mid'\n",
        "\n",
        "# Tick & tempo settings\n",
        "TICKS_PER_QUARTER = 16\n",
        "TEMPO_BPM = 120\n",
        "SECONDS_PER_TICK = 60.0 / (TEMPO_BPM * TICKS_PER_QUARTER)\n",
        "\n",
        "# Recognized keyboard instruments (General MIDI program numbers)\n",
        "KEYBOARD_PROGRAMS = set(range(0, 8)) | set(range(16, 24)) | set(range(80, 88))\n",
        "\n",
        "synth_map = {\n",
        "    \"Grand Piano\": \"grand-piano\",\n",
        "    \"Piano\": \"grand-piano\",\n",
        "    \"Electric Piano\": \"electric-piano\",\n",
        "    \"Harpsichord\": \"harpsichord\",\n",
        "    \"Drum Kit\": \"drum\",\n",
        "    \"Saxophone\": \"saxophone\",\n",
        "    \"\": \"grand-piano\"\n",
        "}\n",
        "\n",
        "def note_name_from_number(n):\n",
        "    NOTE_NAMES_SHARP = ['C', 'C#', 'D', 'D#', 'E', 'F',\n",
        "                        'F#', 'G', 'G#', 'A', 'A#', 'B']\n",
        "    octave = n // 12 - 1\n",
        "    name = NOTE_NAMES_SHARP[n % 12]\n",
        "    return f\"{name}{octave}\"\n",
        "\n",
        "def midi_to_multitrack_json(midi_path):\n",
        "    midi = pretty_midi.PrettyMIDI(midi_path)\n",
        "    print(f\"Loaded MIDI: {os.path.basename(midi_path)}\")\n",
        "\n",
        "    all_tracks = []\n",
        "    for idx, instrument in enumerate(midi.instruments):\n",
        "        events = []\n",
        "        for note in instrument.notes:\n",
        "            start_tick = int(note.start / SECONDS_PER_TICK)\n",
        "            duration_tick = int((note.end - note.start) / SECONDS_PER_TICK)\n",
        "\n",
        "            if instrument.is_drum:\n",
        "                note_label = str(note.pitch)  # e.g., \"38\" for snare\n",
        "            else:\n",
        "                note_label = note_name_from_number(note.pitch)\n",
        "\n",
        "            events.append({\n",
        "                'tick': start_tick,\n",
        "                'notes': [{\n",
        "                    'note': note_label,\n",
        "                    'duration': duration_tick\n",
        "                }]\n",
        "            })\n",
        "\n",
        "        # Merge chords\n",
        "        tick_map = {}\n",
        "        for ev in events:\n",
        "            tick_map.setdefault(int(ev['tick']), []).extend(ev['notes'])\n",
        "\n",
        "        sequence = [{'tick': tick, 'notes': notes} for tick, notes in sorted(tick_map.items())]\n",
        "\n",
        "        if instrument.name not in synth_map:\n",
        "            raise ValueError(f\"Unmapped instrument: {instrument.name}\")\n",
        "\n",
        "        all_tracks.append({\n",
        "            'synth': synth_map[instrument.name],\n",
        "            'name': instrument.name or f\"track_{idx}\",\n",
        "            'program': int(instrument.program),\n",
        "            'is_drum': bool(instrument.is_drum),\n",
        "            'sequence': sequence\n",
        "        })\n",
        "\n",
        "    return all_tracks\n",
        "\n",
        "\n",
        "# ————— MAIN —————\n",
        "midi_path = os.path.join(PATH, midi_name)\n",
        "tracks = midi_to_multitrack_json(midi_path)\n",
        "\n",
        "json_path = os.path.splitext(midi_path)[0] + '.json'\n",
        "with open(json_path, 'w') as f:\n",
        "    json.dump({'tracks': tracks}, f, indent=2)\n",
        "\n",
        "print(f\"Wrote multitrack JSON to {json_path}\\n\")\n",
        "\n"
      ],
      "metadata": {
        "colab": {
          "base_uri": "https://localhost:8080/"
        },
        "id": "f7m99ynPyeUq",
        "outputId": "fef2e572-7682-42b7-b44d-de27c6e5e787"
      },
      "execution_count": null,
      "outputs": [
        {
          "output_type": "stream",
          "name": "stdout",
          "text": [
            "Loaded MIDI: rush_e_real.mid\n",
            "Wrote multitrack JSON to /content/drive/MyDrive/data/music/rush_e_real.json\n",
            "\n"
          ]
        }
      ]
    }
  ]
}